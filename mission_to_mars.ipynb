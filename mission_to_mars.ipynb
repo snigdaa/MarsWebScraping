{
 "cells": [
  {
   "cell_type": "code",
   "execution_count": 1,
   "metadata": {},
   "outputs": [],
   "source": [
    "from splinter import Browser\n",
    "from bs4 import BeautifulSoup as bs\n",
    "import pandas as pd"
   ]
  },
  {
   "cell_type": "code",
   "execution_count": 2,
   "metadata": {},
   "outputs": [],
   "source": [
    "executable_path = {'executable_path': 'chromedriver.exe'}\n",
    "browser = Browser('chrome', **executable_path, headless=False)"
   ]
  },
  {
   "cell_type": "code",
   "execution_count": 3,
   "metadata": {},
   "outputs": [],
   "source": [
    "#NASA Mars News\n",
    "url = \"https://mars.nasa.gov/news/\"\n",
    "browser.visit(url)"
   ]
  },
  {
   "cell_type": "code",
   "execution_count": 5,
   "metadata": {},
   "outputs": [
    {
     "data": {
      "text/plain": [
       "[<div id=\"page\">\n",
       " <!-- title to go in the page_header -->\n",
       " <div class=\"header_mask\">\n",
       " <section class=\"content_page module\"></section>\n",
       " </div>\n",
       " <div class=\"grid_list_page module content_page\">\n",
       " <div class=\"grid_layout\">\n",
       " <article>\n",
       " <header id=\"page_header\">\n",
       " </header>\n",
       " <div class=\"react_grid_list\" data-react-class=\"GridListPage\" data-react-props='{\"left_column\":false,\"class_name\":\"\",\"default_view\":\"list_view\",\"model\":\"news_items\",\"view_toggle\":false,\"search\":\"true\",\"list_item\":\"News\",\"title\":\"News\",\"categories\":[\"19,165,184,204\"],\"order\":\"publish_date desc,created_at desc\",\"no_items_text\":\"There are no items matching these criteria.\",\"site_title\":\"NASA’s Mars Exploration Program \",\"short_title\":\"Mars\",\"site_share_image\":\"/system/site_config_values/meta_share_images/1_142497main_PIA03154-200.jpg\",\"per_page\":null,\"filters\":\"[ [ \\\"date\\\", [ [ \\\"2019\\\", \\\"2019\\\" ], [ \\\"2018\\\", \\\"2018\\\" ], [ \\\"2017\\\", \\\"2017\\\" ], [ \\\"2016\\\", \\\"2016\\\" ], [ \\\"2015\\\", \\\"2015\\\" ], [ \\\"2014\\\", \\\"2014\\\" ], [ \\\"2013\\\", \\\"2013\\\" ], [ \\\"2012\\\", \\\"2012\\\" ], [ \\\"2011\\\", \\\"2011\\\" ], [ \\\"2010\\\", \\\"2010\\\" ], [ \\\"2009\\\", \\\"2009\\\" ], [ \\\"2008\\\", \\\"2008\\\" ], [ \\\"2007\\\", \\\"2007\\\" ], [ \\\"2006\\\", \\\"2006\\\" ], [ \\\"2005\\\", \\\"2005\\\" ], [ \\\"2004\\\", \\\"2004\\\" ], [ \\\"2003\\\", \\\"2003\\\" ], [ \\\"2002\\\", \\\"2002\\\" ], [ \\\"2001\\\", \\\"2001\\\" ], [ \\\"2000\\\", \\\"2000\\\" ] ], [ \\\"Latest\\\", \\\"\\\" ], false ], [ \\\"categories\\\", [ [ \\\"Feature Stories\\\", 165 ], [ \\\"Press Releases\\\", 19 ], [ \\\"Spotlights\\\", 184 ], [ \\\"Status Reports\\\", 204 ] ], [ \\\"All Categories\\\", \\\"\\\" ], false ] ]\",\"conditions\":null,\"scope_in_title\":true,\"options\":{\"blank_scope\":\"Latest\"},\"results_in_title\":false}'><section class=\"grid_gallery module list_view\" data-reactroot=\"\"><div class=\"grid_layout\"><header class=\"gallery_header\"><h2 class=\"module_title\">News</h2><section class=\"filter_bar\"><div class=\"section_search\"><div class=\"search_binder\"><input class=\"search_field\" name=\"search\" placeholder=\"search\" type=\"text\" value=\"\"/><input class=\"search_submit\" type=\"submit\" value=\"\"/></div><select class=\"filter\" id=\"date\" name=\"date\"><option value=\"\">Latest</option><option value=\"2019\">2019</option><option value=\"2018\">2018</option><option value=\"2017\">2017</option><option value=\"2016\">2016</option><option value=\"2015\">2015</option><option value=\"2014\">2014</option><option value=\"2013\">2013</option><option value=\"2012\">2012</option><option value=\"2011\">2011</option><option value=\"2010\">2010</option><option value=\"2009\">2009</option><option value=\"2008\">2008</option><option value=\"2007\">2007</option><option value=\"2006\">2006</option><option value=\"2005\">2005</option><option value=\"2004\">2004</option><option value=\"2003\">2003</option><option value=\"2002\">2002</option><option value=\"2001\">2001</option><option value=\"2000\">2000</option></select><select class=\"filter\" id=\"categories\" name=\"categories\"><option value=\"\">All Categories</option><option value=\"165\">Feature Stories</option><option value=\"19\">Press Releases</option><option value=\"184\">Spotlights</option><option value=\"204\">Status Reports</option></select></div></section><!-- react-text: 38 --><!-- /react-text --></header><ul class=\"item_list \"><li class=\"slide\"><div class=\"image_and_description_container\"><a href=\"/news/8416/after-a-reset-curiosity-is-operating-normally/\" target=\"_self\"><div class=\"rollover_description\"><div class=\"rollover_description_inner\">NASA's Mars rover Curiosity is in good health but takes a short break while engineers diagnose why it reset its computer. </div><div class=\"overlay_arrow\"><img alt=\"More\" src=\"/assets/overlay-arrow.png\"/></div></div><div class=\"list_image\"><img alt=\"NASA's Curiosity Mars took this image with its Mastcam on Feb. 10, 2019 (Sol 2316). The rover is currently exploring a region of Mount Sharp nicknamed &quot;Glen Torridon&quot; that has lots of clay minerals.\" src=\"/system/news_items/list_view_images/8416_PIA23047-th.jpg\"/></div><div class=\"bottom_gradient\"><div><h3>After a Reset, Curiosity Is Operating Normally</h3></div></div></a><div class=\"list_text\"><div class=\"list_date\">February 22, 2019</div><div class=\"content_title\"><a href=\"/news/8416/after-a-reset-curiosity-is-operating-normally/\" target=\"_self\">After a Reset, Curiosity Is Operating Normally</a></div><div class=\"article_teaser_body\">NASA's Mars rover Curiosity is in good health but takes a short break while engineers diagnose why it reset its computer. </div></div></div></li><li class=\"slide\"><div class=\"image_and_description_container\"><a href=\"/news/8415/insight-is-the-newest-mars-weather-service/\" target=\"_self\"><div class=\"rollover_description\"><div class=\"rollover_description_inner\">By collecting data around the clock, NASA's lander will provide unique science about the Martian surface.</div><div class=\"overlay_arrow\"><img alt=\"More\" src=\"/assets/overlay-arrow.png\"/></div></div><div class=\"list_image\"><img alt=\"The white east- and west-facing booms — called Temperature and Wind for InSight, or TWINS — on the deck of NASA's InSight lander belong to its suite of weather sensors.\" src=\"/system/news_items/list_view_images/8415_PIA22876-th.jpg\"/></div><div class=\"bottom_gradient\"><div><h3>InSight Is the Newest Mars Weather Service</h3></div></div></a><div class=\"list_text\"><div class=\"list_date\">February 19, 2019</div><div class=\"content_title\"><a href=\"/news/8415/insight-is-the-newest-mars-weather-service/\" target=\"_self\">InSight Is the Newest Mars Weather Service</a></div><div class=\"article_teaser_body\">By collecting data around the clock, NASA's lander will provide unique science about the Martian surface.</div></div></div></li><li class=\"slide\"><div class=\"image_and_description_container\"><a href=\"/news/8414/six-things-to-know-about-nasas-opportunity-rover/\" target=\"_self\"><div class=\"rollover_description\"><div class=\"rollover_description_inner\">Opportunity's mission is complete. Here are highlights from its time on Mars.</div><div class=\"overlay_arrow\"><img alt=\"More\" src=\"/assets/overlay-arrow.png\"/></div></div><div class=\"list_image\"><img alt=\"This scene from the panoramic camera on NASA's Mars Exploration Rover Opportunity looks back toward part of the west rim of Endeavour Crater that the rover drove along, heading southward, during the summer of 2014. \" src=\"/system/news_items/list_view_images/8414_1_MAIN_th.jpg\"/></div><div class=\"bottom_gradient\"><div><h3>Six Things to Know About NASA's Opportunity Rover</h3></div></div></a><div class=\"list_text\"><div class=\"list_date\">February 13, 2019</div><div class=\"content_title\"><a href=\"/news/8414/six-things-to-know-about-nasas-opportunity-rover/\" target=\"_self\">Six Things to Know About NASA's Opportunity Rover</a></div><div class=\"article_teaser_body\">Opportunity's mission is complete. Here are highlights from its time on Mars.</div></div></div></li><li class=\"slide\"><div class=\"image_and_description_container\"><a href=\"/news/8413/nasas-opportunity-rover-mission-on-mars-comes-to-end/\" target=\"_self\"><div class=\"rollover_description\"><div class=\"rollover_description_inner\">NASA's Opportunity Mars rover mission is complete after 15 years on Mars. Opportunity's record-breaking exploration laid the groundwork for future missions to the Red Planet.</div><div class=\"overlay_arrow\"><img alt=\"More\" src=\"/assets/overlay-arrow.png\"/></div></div><div class=\"list_image\"><img alt=\"Opportunity Catches its Shadow\" src=\"/system/news_items/list_view_images/8413_PIA06739-320x240.jpg\"/></div><div class=\"bottom_gradient\"><div><h3>NASA's Opportunity Rover Mission on Mars Comes to End</h3></div></div></a><div class=\"list_text\"><div class=\"list_date\">February 13, 2019</div><div class=\"content_title\"><a href=\"/news/8413/nasas-opportunity-rover-mission-on-mars-comes-to-end/\" target=\"_self\">NASA's Opportunity Rover Mission on Mars Comes to End</a></div><div class=\"article_teaser_body\">NASA's Opportunity Mars rover mission is complete after 15 years on Mars. Opportunity's record-breaking exploration laid the groundwork for future missions to the Red Planet.</div></div></div></li><li class=\"slide\"><div class=\"image_and_description_container\"><a href=\"/news/8412/nasas-insight-prepares-to-take-mars-temperature/\" target=\"_self\"><div class=\"rollover_description\"><div class=\"rollover_description_inner\">The lander's second instrument is on the ground. But its ‘mole’ — a burrowing probe — has a long way to go.</div><div class=\"overlay_arrow\"><img alt=\"More\" src=\"/assets/overlay-arrow.png\"/></div></div><div class=\"list_image\"><img alt=\"NASA's InSight lander set its heat probe, called the Heat and Physical Properties Package (HP3), on the Martian surface on Feb. 12.\" src=\"/system/news_items/list_view_images/8412_PIA23046-320x240.jpg\"/></div><div class=\"bottom_gradient\"><div><h3>NASA's InSight Prepares to Take Mars' Temperature</h3></div></div></a><div class=\"list_text\"><div class=\"list_date\">February 13, 2019</div><div class=\"content_title\"><a href=\"/news/8412/nasas-insight-prepares-to-take-mars-temperature/\" target=\"_self\">NASA's InSight Prepares to Take Mars' Temperature</a></div><div class=\"article_teaser_body\">The lander's second instrument is on the ground. But its ‘mole’ — a burrowing probe — has a long way to go.</div></div></div></li><li class=\"slide\"><div class=\"image_and_description_container\"><a href=\"/news/8411/nasa-to-share-results-of-effort-to-recover-mars-rover/\" target=\"_self\"><div class=\"rollover_description\"><div class=\"rollover_description_inner\">NASA will discuss the status of its Mars Exploration Rover Opportunity in a media briefing at 11 a.m. PST (2 p.m. EST) Wednesday, Feb. 13, from the Jet Propulsion Laboratory.</div><div class=\"overlay_arrow\"><img alt=\"More\" src=\"/assets/overlay-arrow.png\"/></div></div><div class=\"list_image\"><img alt=\"An artist's concept portrays a NASA Mars Exploration Rover on the surface of Mars. Two rovers were launched in 2003 and arrived at sites on Mars in January 2004. Each rover was built to have the mobility and toolkit for functioning as a robotic geologist.\" src=\"/system/news_items/list_view_images/8411_3904_PIA04413a-th.jpg\"/></div><div class=\"bottom_gradient\"><div><h3>NASA to Share Results of Effort to Recover Mars Rover</h3></div></div></a><div class=\"list_text\"><div class=\"list_date\">February 12, 2019</div><div class=\"content_title\"><a href=\"/news/8411/nasa-to-share-results-of-effort-to-recover-mars-rover/\" target=\"_self\">NASA to Share Results of Effort to Recover Mars Rover</a></div><div class=\"article_teaser_body\">NASA will discuss the status of its Mars Exploration Rover Opportunity in a media briefing at 11 a.m. PST (2 p.m. EST) Wednesday, Feb. 13, from the Jet Propulsion Laboratory.</div></div></div></li><li class=\"slide\"><div class=\"image_and_description_container\"><a href=\"/news/8410/nasas-maven-spacecraft-shrinking-its-mars-orbit-to-prepare-for-mars-2020-rover/\" target=\"_self\"><div class=\"rollover_description\"><div class=\"rollover_description_inner\">The MAVEN spacecraft today is starting a campaign to tighten its orbit around Mars to prepare to serve as a data-relay satellite for NASA’s Mars 2020 rover, which launches next year.</div><div class=\"overlay_arrow\"><img alt=\"More\" src=\"/assets/overlay-arrow.png\"/></div></div><div class=\"list_image\"><img alt=\"Aerobraking plan for MAVEN\" src=\"/system/news_items/list_view_images/8410_mavennotext-th.jpg\"/></div><div class=\"bottom_gradient\"><div><h3>NASA's MAVEN Spacecraft Shrinking its Mars Orbit to Prepare for Mars 2020 Rover</h3></div></div></a><div class=\"list_text\"><div class=\"list_date\">February 11, 2019</div><div class=\"content_title\"><a href=\"/news/8410/nasas-maven-spacecraft-shrinking-its-mars-orbit-to-prepare-for-mars-2020-rover/\" target=\"_self\">NASA's MAVEN Spacecraft Shrinking its Mars Orbit to Prepare for Mars 2020 Rover</a></div><div class=\"article_teaser_body\">The MAVEN spacecraft today is starting a campaign to tighten its orbit around Mars to prepare to serve as a data-relay satellite for NASA’s Mars 2020 rover, which launches next year.</div></div></div></li><li class=\"slide\"><div class=\"image_and_description_container\"><a href=\"/news/8409/360-video-curiosity-rover-departs-vera-rubin-ridge/\" target=\"_self\"><div class=\"rollover_description\"><div class=\"rollover_description_inner\">This panorama from the Mast Camera (Mastcam) on NASA's Curiosity Mars rover was taken on Dec. 19 (Sol 2265). The rover's last drill location on Vera Rubin Ridge is visible, as well as the clay region it will spend the next year exploring.</div><div class=\"overlay_arrow\"><img alt=\"More\" src=\"/assets/overlay-arrow.png\"/></div></div><div class=\"list_image\"><img alt=\"\" src=\"/system/news_items/list_view_images/8409_22288_PIA23042-320x240.jpg\"/></div><div class=\"bottom_gradient\"><div><h3>360 Video: Curiosity Rover Departs Vera Rubin Ridge</h3></div></div></a><div class=\"list_text\"><div class=\"list_date\">February  8, 2019</div><div class=\"content_title\"><a href=\"/news/8409/360-video-curiosity-rover-departs-vera-rubin-ridge/\" target=\"_self\">360 Video: Curiosity Rover Departs Vera Rubin Ridge</a></div><div class=\"article_teaser_body\">This panorama from the Mast Camera (Mastcam) on NASA's Curiosity Mars rover was taken on Dec. 19 (Sol 2265). The rover's last drill location on Vera Rubin Ridge is visible, as well as the clay region it will spend the next year exploring.</div></div></div></li><li class=\"slide\"><div class=\"image_and_description_container\"><a href=\"/news/8408/beyond-mars-the-mini-marco-spacecraft-fall-silent/\" target=\"_self\"><div class=\"rollover_description\"><div class=\"rollover_description_inner\">The first CubeSat mission to deep space may have reached their limit, but they could inspire future NASA missions.</div><div class=\"overlay_arrow\"><img alt=\"More\" src=\"/assets/overlay-arrow.png\"/></div></div><div class=\"list_image\"><img alt=\"MarCO-B, one of the experimental Mars Cube One (MarCO) CubeSats, took these images as it approached Mars.\" src=\"/system/news_items/list_view_images/8408_22206_PIA22655-th.gif\"/></div><div class=\"bottom_gradient\"><div><h3>Beyond Mars, the Mini MarCO Spacecraft Fall Silent</h3></div></div></a><div class=\"list_text\"><div class=\"list_date\">February  5, 2019</div><div class=\"content_title\"><a href=\"/news/8408/beyond-mars-the-mini-marco-spacecraft-fall-silent/\" target=\"_self\">Beyond Mars, the Mini MarCO Spacecraft Fall Silent</a></div><div class=\"article_teaser_body\">The first CubeSat mission to deep space may have reached their limit, but they could inspire future NASA missions.</div></div></div></li><li class=\"slide\"><div class=\"image_and_description_container\"><a href=\"/news/8407/insights-seismometer-now-has-a-cozy-shelter-on-mars/\" target=\"_self\"><div class=\"rollover_description\"><div class=\"rollover_description_inner\">A domed shield has been set over one of InSight's primary science instruments, protecting it from Mars' wind and temperature changes.</div><div class=\"overlay_arrow\"><img alt=\"More\" src=\"/assets/overlay-arrow.png\"/></div></div><div class=\"list_image\"><img alt=\"NASA's InSight lander deployed its Wind and Thermal Shield on Feb. 2 (Sol 66). The shield covers InSight's seismometer, which was set down onto the Martian surface on Dec. 19.\" src=\"/system/news_items/list_view_images/8407_PIA22959-th.jpg\"/></div><div class=\"bottom_gradient\"><div><h3>InSight's Seismometer Now Has a Cozy Shelter on Mars</h3></div></div></a><div class=\"list_text\"><div class=\"list_date\">February  4, 2019</div><div class=\"content_title\"><a href=\"/news/8407/insights-seismometer-now-has-a-cozy-shelter-on-mars/\" target=\"_self\">InSight's Seismometer Now Has a Cozy Shelter on Mars</a></div><div class=\"article_teaser_body\">A domed shield has been set over one of InSight's primary science instruments, protecting it from Mars' wind and temperature changes.</div></div></div></li><li class=\"slide\"><div class=\"image_and_description_container\"><a href=\"/news/8406/mars-buggy-curiosity-measures-a-mountains-gravity/\" target=\"_self\"><div class=\"rollover_description\"><div class=\"rollover_description_inner\">Smartphone-like sensors on the NASA rover were used to calculate the density of Mount Sharp, offering new clues to its formation.</div><div class=\"overlay_arrow\"><img alt=\"More\" src=\"/assets/overlay-arrow.png\"/></div></div><div class=\"list_image\"><img alt=\"Side-by-side images depict NASA's Curiosity rover (left) and a moon buggy driven during the Apollo 16 mission. \" src=\"/system/news_items/list_view_images/8406_marsrover-lunarrover-th.gif\"/></div><div class=\"bottom_gradient\"><div><h3>\"Mars Buggy\" Curiosity Measures a Mountain's Gravity</h3></div></div></a><div class=\"list_text\"><div class=\"list_date\">January 31, 2019</div><div class=\"content_title\"><a href=\"/news/8406/mars-buggy-curiosity-measures-a-mountains-gravity/\" target=\"_self\">\"Mars Buggy\" Curiosity Measures a Mountain's Gravity</a></div><div class=\"article_teaser_body\">Smartphone-like sensors on the NASA rover were used to calculate the density of Mount Sharp, offering new clues to its formation.</div></div></div></li><li class=\"slide\"><div class=\"image_and_description_container\"><a href=\"/news/8405/curiosity-says-farewell-to-mars-vera-rubin-ridge/\" target=\"_self\"><div class=\"rollover_description\"><div class=\"rollover_description_inner\">The Mars rover is moving on and has taken its last selfie on the ridge it's explored for more than a year.</div><div class=\"overlay_arrow\"><img alt=\"More\" src=\"/assets/overlay-arrow.png\"/></div></div><div class=\"list_image\"><img alt=\"\" src=\"/system/news_items/list_view_images/8405_PIA22960-th.jpg\"/></div><div class=\"bottom_gradient\"><div><h3>Curiosity Says Farewell to Mars' Vera Rubin Ridge</h3></div></div></a><div class=\"list_text\"><div class=\"list_date\">January 28, 2019</div><div class=\"content_title\"><a href=\"/news/8405/curiosity-says-farewell-to-mars-vera-rubin-ridge/\" target=\"_self\">Curiosity Says Farewell to Mars' Vera Rubin Ridge</a></div><div class=\"article_teaser_body\">The Mars rover is moving on and has taken its last selfie on the ridge it's explored for more than a year.</div></div></div></li><li class=\"slide\"><div class=\"image_and_description_container\"><a href=\"/news/8404/rover-team-beaming-new-commands-to-opportunity-on-mars/\" target=\"_self\"><div class=\"rollover_description\"><div class=\"rollover_description_inner\">Engineers at JPL have begun transmitting a new set of commands to Opportunity in an attempt to compel the Mars rover to contact Earth.</div><div class=\"overlay_arrow\"><img alt=\"More\" src=\"/assets/overlay-arrow.png\"/></div></div><div class=\"list_image\"><img alt=\"A Goldstone 111.5-foot (34-meter) beam-waveguide antenna tracks a spacecraft as it comes into view. The Goldstone Deep Space Communications Complex is located in the Mojave Desert in California.\" src=\"/system/news_items/list_view_images/8404_PIA17791-th.jpg\"/></div><div class=\"bottom_gradient\"><div><h3>Rover Team Beaming New Commands to Opportunity on Mars</h3></div></div></a><div class=\"list_text\"><div class=\"list_date\">January 25, 2019</div><div class=\"content_title\"><a href=\"/news/8404/rover-team-beaming-new-commands-to-opportunity-on-mars/\" target=\"_self\">Rover Team Beaming New Commands to Opportunity on Mars</a></div><div class=\"article_teaser_body\">Engineers at JPL have begun transmitting a new set of commands to Opportunity in an attempt to compel the Mars rover to contact Earth.</div></div></div></li><li class=\"slide\"><div class=\"image_and_description_container\"><a href=\"/news/8403/nasas-opportunity-rover-logs-15-years-on-mars/\" target=\"_self\"><div class=\"rollover_description\"><div class=\"rollover_description_inner\">The rover landed in a region of the Red Planet called Meridiani Planum 16 years ago today, on Jan. 24, 2004.</div><div class=\"overlay_arrow\"><img alt=\"More\" src=\"/assets/overlay-arrow.png\"/></div></div><div class=\"list_image\"><img alt=\"An artist's concept portrays a NASA Mars Exploration Rover on the surface of Mars. Credit: NASA/JPL/Cornell University.\" src=\"/system/news_items/list_view_images/8403_PIA04413a-thmfeat.jpg\"/></div><div class=\"bottom_gradient\"><div><h3>NASA's Opportunity Rover Logs 15 Years on Mars</h3></div></div></a><div class=\"list_text\"><div class=\"list_date\">January 24, 2019</div><div class=\"content_title\"><a href=\"/news/8403/nasas-opportunity-rover-logs-15-years-on-mars/\" target=\"_self\">NASA's Opportunity Rover Logs 15 Years on Mars</a></div><div class=\"article_teaser_body\">The rover landed in a region of the Red Planet called Meridiani Planum 16 years ago today, on Jan. 24, 2004.</div></div></div></li><li class=\"slide\"><div class=\"image_and_description_container\"><a href=\"/news/8402/nasas-insight-places-first-instrument-on-mars/\" target=\"_self\"><div class=\"rollover_description\"><div class=\"rollover_description_inner\">In deploying its first instrument onto the surface of Mars, the lander completes a major mission milestone.</div><div class=\"overlay_arrow\"><img alt=\"More\" src=\"/assets/overlay-arrow.png\"/></div></div><div class=\"list_image\"><img alt=\"\" src=\"/system/news_items/list_view_images/8402_PIA22977_SEIS_deploy_IDC_calibrated-th.gif\"/></div><div class=\"bottom_gradient\"><div><h3>NASA's InSight Places First Instrument on Mars</h3></div></div></a><div class=\"list_text\"><div class=\"list_date\">December 19, 2018</div><div class=\"content_title\"><a href=\"/news/8402/nasas-insight-places-first-instrument-on-mars/\" target=\"_self\">NASA's InSight Places First Instrument on Mars</a></div><div class=\"article_teaser_body\">In deploying its first instrument onto the surface of Mars, the lander completes a major mission milestone.</div></div></div></li><li class=\"slide\"><div class=\"image_and_description_container\"><a href=\"/news/8401/insight-engineers-have-made-a-martian-rock-garden/\" target=\"_self\"><div class=\"rollover_description\"><div class=\"rollover_description_inner\">Reconstructing Mars here on Earth lets them practice setting down the lander's science instruments.</div><div class=\"overlay_arrow\"><img alt=\"More\" src=\"/assets/overlay-arrow.png\"/></div></div><div class=\"list_image\"><img alt=\"Engineers practice deploying InSight's instruments in a lab at NASA's Jet Propulsion Laboratory in Pasadena, California. Several of them are wearing sunglasses to block the bright yellow lights in the test space, which mimic sunlight as it appears on Mars.\" src=\"/system/news_items/list_view_images/8401_PIA22744-th.jpg\"/></div><div class=\"bottom_gradient\"><div><h3>InSight Engineers Have Made a Martian Rock Garden</h3></div></div></a><div class=\"list_text\"><div class=\"list_date\">December 18, 2018</div><div class=\"content_title\"><a href=\"/news/8401/insight-engineers-have-made-a-martian-rock-garden/\" target=\"_self\">InSight Engineers Have Made a Martian Rock Garden</a></div><div class=\"article_teaser_body\">Reconstructing Mars here on Earth lets them practice setting down the lander's science instruments.</div></div></div></li><li class=\"slide\"><div class=\"image_and_description_container\"><a href=\"/news/8400/mars-insight-lander-seen-in-first-images-from-space/\" target=\"_self\"><div class=\"rollover_description\"><div class=\"rollover_description_inner\">Look closely, and you can make out the lander's solar panels.</div><div class=\"overlay_arrow\"><img alt=\"More\" src=\"/assets/overlay-arrow.png\"/></div></div><div class=\"list_image\"><img alt=\"NASA's InSight spacecraft, its heat shield and its parachute were imaged on Dec. 6 and 11 by the HiRISE camera onboard NASA's Mars Reconnaissance Orbiter.\" src=\"/system/news_items/list_view_images/8400_PIA22875-16_320.png\"/></div><div class=\"bottom_gradient\"><div><h3>Mars InSight Lander Seen in First Images from Space </h3></div></div></a><div class=\"list_text\"><div class=\"list_date\">December 13, 2018</div><div class=\"content_title\"><a href=\"/news/8400/mars-insight-lander-seen-in-first-images-from-space/\" target=\"_self\">Mars InSight Lander Seen in First Images from Space </a></div><div class=\"article_teaser_body\">Look closely, and you can make out the lander's solar panels.</div></div></div></li><li class=\"slide\"><div class=\"image_and_description_container\"><a href=\"/news/8398/nasas-insight-takes-its-first-selfie/\" target=\"_self\"><div class=\"rollover_description\"><div class=\"rollover_description_inner\">Two new image mosaics detail the lander's deck and \"workspace\" — the surface where it will eventually set down its science instruments.</div><div class=\"overlay_arrow\"><img alt=\"More\" src=\"/assets/overlay-arrow.png\"/></div></div><div class=\"list_image\"><img alt=\"This is NASA InSight's first full selfie on Mars. It displays the lander's solar panels and deck. On top of the deck are its science instruments, weather sensor booms and UHF antenna.\" src=\"/system/news_items/list_view_images/8398_PIA22876_320.png\"/></div><div class=\"bottom_gradient\"><div><h3>NASA's InSight Takes Its First Selfie</h3></div></div></a><div class=\"list_text\"><div class=\"list_date\">December 11, 2018</div><div class=\"content_title\"><a href=\"/news/8398/nasas-insight-takes-its-first-selfie/\" target=\"_self\">NASA's InSight Takes Its First Selfie</a></div><div class=\"article_teaser_body\">Two new image mosaics detail the lander's deck and \"workspace\" — the surface where it will eventually set down its science instruments.</div></div></div></li><li class=\"slide\"><div class=\"image_and_description_container\"><a href=\"/news/8397/nasa-insight-lander-hears-martian-winds/\" target=\"_self\"><div class=\"rollover_description\"><div class=\"rollover_description_inner\">Vibrations picked up by two spacecraft instruments have provided the first sounds of Martian wind.</div><div class=\"overlay_arrow\"><img alt=\"More\" src=\"/assets/overlay-arrow.png\"/></div></div><div class=\"list_image\"><img alt=\"One of InSight's 7-foot (2.2 meter) wide solar panels was imaged by the lander's Instrument Deployment Camera, which is fixed to the elbow of its robotic arm. \" src=\"/system/news_items/list_view_images/8397_1_PIA22736-th.jpg\"/></div><div class=\"bottom_gradient\"><div><h3>NASA InSight Lander 'Hears' Martian Winds </h3></div></div></a><div class=\"list_text\"><div class=\"list_date\">December  7, 2018</div><div class=\"content_title\"><a href=\"/news/8397/nasa-insight-lander-hears-martian-winds/\" target=\"_self\">NASA InSight Lander 'Hears' Martian Winds </a></div><div class=\"article_teaser_body\">Vibrations picked up by two spacecraft instruments have provided the first sounds of Martian wind.</div></div></div></li><li class=\"slide\"><div class=\"image_and_description_container\"><a href=\"/news/8396/nasas-mars-insight-flexes-its-arm/\" target=\"_self\"><div class=\"rollover_description\"><div class=\"rollover_description_inner\">Now unstowed, the spacecraft's robotic arm will point a camera located on its elbow and take images of the surroundings.</div><div class=\"overlay_arrow\"><img alt=\"More\" src=\"/assets/overlay-arrow.png\"/></div></div><div class=\"list_image\"><img alt=\"InSight's robotic-arm mounted Instrument Deployment Camera shows the instruments on the spacecraft's deck.\" src=\"/system/news_items/list_view_images/8396_PIA22871-th.jpg\"/></div><div class=\"bottom_gradient\"><div><h3>NASA's Mars InSight Flexes Its Arm</h3></div></div></a><div class=\"list_text\"><div class=\"list_date\">December  6, 2018</div><div class=\"content_title\"><a href=\"/news/8396/nasas-mars-insight-flexes-its-arm/\" target=\"_self\">NASA's Mars InSight Flexes Its Arm</a></div><div class=\"article_teaser_body\">Now unstowed, the spacecraft's robotic arm will point a camera located on its elbow and take images of the surroundings.</div></div></div></li><li class=\"slide\"><div class=\"image_and_description_container\"><a href=\"/news/8395/mars-new-home-a-large-sandbox/\" target=\"_self\"><div class=\"rollover_description\"><div class=\"rollover_description_inner\">With InSight safely on the surface of Mars, the mission team is busy learning more about the spacecraft's landing site.</div><div class=\"overlay_arrow\"><img alt=\"More\" src=\"/assets/overlay-arrow.png\"/></div></div><div class=\"list_image\"><img alt=\"NASA’s InSight spacecraft flipped open the lens cover on its Instrument Context Camera (ICC) on Nov. 30, 2018, and captured this view of Mars.\" src=\"/system/news_items/list_view_images/8395_ICCDustCoverOff_C000M0004_596888328EDR_F0000_0461M1_320.png\"/></div><div class=\"bottom_gradient\"><div><h3>Mars New Home 'a Large Sandbox'</h3></div></div></a><div class=\"list_text\"><div class=\"list_date\">November 30, 2018</div><div class=\"content_title\"><a href=\"/news/8395/mars-new-home-a-large-sandbox/\" target=\"_self\">Mars New Home 'a Large Sandbox'</a></div><div class=\"article_teaser_body\">With InSight safely on the surface of Mars, the mission team is busy learning more about the spacecraft's landing site.</div></div></div></li><li class=\"slide\"><div class=\"image_and_description_container\"><a href=\"/news/8394/nasa-hears-marco-cubesats-loud-and-clear-from-mars/\" target=\"_self\"><div class=\"rollover_description\"><div class=\"rollover_description_inner\">A pair of tiny, experimental spacecraft fulfilled their mission yesterday, relaying back near-real-time data during InSight's landing.</div><div class=\"overlay_arrow\"><img alt=\"More\" src=\"/assets/overlay-arrow.png\"/></div></div><div class=\"list_image\"><img alt=\"MarCO-B took this image of Mars from about 4,700 miles (7,600 kilometers) away during its flyby of Mars on Nov. 26, 2018.\" src=\"/system/news_items/list_view_images/8394_MarCOfarewell_320.jpg\"/></div><div class=\"bottom_gradient\"><div><h3>NASA Hears MarCO CubeSats Loud and Clear from Mars </h3></div></div></a><div class=\"list_text\"><div class=\"list_date\">November 27, 2018</div><div class=\"content_title\"><a href=\"/news/8394/nasa-hears-marco-cubesats-loud-and-clear-from-mars/\" target=\"_self\">NASA Hears MarCO CubeSats Loud and Clear from Mars </a></div><div class=\"article_teaser_body\">A pair of tiny, experimental spacecraft fulfilled their mission yesterday, relaying back near-real-time data during InSight's landing.</div></div></div></li><li class=\"slide\"><div class=\"image_and_description_container\"><a href=\"/news/8393/insight-is-catching-rays-on-mars/\" target=\"_self\"><div class=\"rollover_description\"><div class=\"rollover_description_inner\">The lander has sent data indicating its solar panels are open and receiving sunlight to power its surface operations.</div><div class=\"overlay_arrow\"><img alt=\"More\" src=\"/assets/overlay-arrow.png\"/></div></div><div class=\"list_image\"><img alt=\"The Instrument Deployment Camera (IDC), located on the robotic arm of NASA's InSight lander, took this photo on the surface of Mars.\" src=\"/system/news_items/list_view_images/8393_D000M0000_596535424EDR_F0000_0106M1-stretch_320.jpg\"/></div><div class=\"bottom_gradient\"><div><h3>InSight Is Catching Rays on Mars</h3></div></div></a><div class=\"list_text\"><div class=\"list_date\">November 26, 2018</div><div class=\"content_title\"><a href=\"/news/8393/insight-is-catching-rays-on-mars/\" target=\"_self\">InSight Is Catching Rays on Mars</a></div><div class=\"article_teaser_body\">The lander has sent data indicating its solar panels are open and receiving sunlight to power its surface operations.</div></div></div></li><li class=\"slide\"><div class=\"image_and_description_container\"><a href=\"/news/8392/nasa-insight-lander-arrives-on-martian-surface/\" target=\"_self\"><div class=\"rollover_description\"><div class=\"rollover_description_inner\">The touchdown marks the eighth time NASA has successfully landed a spacecraft on Mars.</div><div class=\"overlay_arrow\"><img alt=\"More\" src=\"/assets/overlay-arrow.png\"/></div></div><div class=\"list_image\"><img alt=\"The NASA InSight team reacts after receiving confirmation that the spacecraft successfully touched down on the surface of Mars.\" src=\"/system/news_items/list_view_images/8392_touchdown_320.jpg\"/></div><div class=\"bottom_gradient\"><div><h3>NASA InSight Lander Arrives on Martian Surface </h3></div></div></a><div class=\"list_text\"><div class=\"list_date\">November 26, 2018</div><div class=\"content_title\"><a href=\"/news/8392/nasa-insight-lander-arrives-on-martian-surface/\" target=\"_self\">NASA InSight Lander Arrives on Martian Surface </a></div><div class=\"article_teaser_body\">The touchdown marks the eighth time NASA has successfully landed a spacecraft on Mars.</div></div></div></li><li class=\"slide\"><div class=\"image_and_description_container\"><a href=\"/news/8391/landing-day-for-insight/\" target=\"_self\"><div class=\"rollover_description\"><div class=\"rollover_description_inner\">NASA's InSight spacecraft is on target for Mars landing at around noon PST today.</div><div class=\"overlay_arrow\"><img alt=\"More\" src=\"/assets/overlay-arrow.png\"/></div></div><div class=\"list_image\"><img alt=\"The InSight spacecraft approaches Mars in this artist’s concept.\" src=\"/system/news_items/list_view_images/8391_PIA22099-16_320.jpg\"/></div><div class=\"bottom_gradient\"><div><h3>Landing Day for InSight</h3></div></div></a><div class=\"list_text\"><div class=\"list_date\">November 25, 2018</div><div class=\"content_title\"><a href=\"/news/8391/landing-day-for-insight/\" target=\"_self\">Landing Day for InSight</a></div><div class=\"article_teaser_body\">NASA's InSight spacecraft is on target for Mars landing at around noon PST today.</div></div></div></li><li class=\"slide\"><div class=\"image_and_description_container\"><a href=\"/news/8390/nasa-insight-landing-on-mars-milestones/\" target=\"_self\"><div class=\"rollover_description\"><div class=\"rollover_description_inner\">On Nov. 26, NASA's InSight spacecraft will blaze through the Martian atmosphere and set a lander gently on the surface in less time than it takes to cook a hard-boiled egg.</div><div class=\"overlay_arrow\"><img alt=\"More\" src=\"/assets/overlay-arrow.png\"/></div></div><div class=\"list_image\"><img alt=\"This illustration shows a simulated view of NASA's InSight lander descending towards the surface of Mars on its parachute.\" src=\"/system/news_items/list_view_images/8390_PIA22809-th.jpg\"/></div><div class=\"bottom_gradient\"><div><h3>NASA InSight Landing on Mars: Milestones</h3></div></div></a><div class=\"list_text\"><div class=\"list_date\">November 21, 2018</div><div class=\"content_title\"><a href=\"/news/8390/nasa-insight-landing-on-mars-milestones/\" target=\"_self\">NASA InSight Landing on Mars: Milestones</a></div><div class=\"article_teaser_body\">On Nov. 26, NASA's InSight spacecraft will blaze through the Martian atmosphere and set a lander gently on the surface in less time than it takes to cook a hard-boiled egg.</div></div></div></li><li class=\"slide\"><div class=\"image_and_description_container\"><a href=\"/news/8389/nasa-insight-team-on-course-for-mars-touchdown/\" target=\"_self\"><div class=\"rollover_description\"><div class=\"rollover_description_inner\">NASA's Mars InSight spacecraft is on track for a soft touchdown on the surface of the Red Planet on Nov. 26.</div><div class=\"overlay_arrow\"><img alt=\"More\" src=\"/assets/overlay-arrow.png\"/></div></div><div class=\"list_image\"><img alt=\"\" src=\"/system/news_items/list_view_images/8389_PIA22100_320.jpg\"/></div><div class=\"bottom_gradient\"><div><h3>NASA InSight Team on Course for Mars Touchdown</h3></div></div></a><div class=\"list_text\"><div class=\"list_date\">November 21, 2018</div><div class=\"content_title\"><a href=\"/news/8389/nasa-insight-team-on-course-for-mars-touchdown/\" target=\"_self\">NASA InSight Team on Course for Mars Touchdown</a></div><div class=\"article_teaser_body\">NASA's Mars InSight spacecraft is on track for a soft touchdown on the surface of the Red Planet on Nov. 26.</div></div></div></li><li class=\"slide\"><div class=\"image_and_description_container\"><a href=\"/news/8388/what-two-planetary-siblings-can-teach-us-about-life/\" target=\"_self\"><div class=\"rollover_description\"><div class=\"rollover_description_inner\">In studying Mars, NASA's InSight will reveal what makes one planet more or less suitable for life than another.</div><div class=\"overlay_arrow\"><img alt=\"More\" src=\"/assets/overlay-arrow.png\"/></div></div><div class=\"list_image\"><img alt=\"This composite image of Earth and Mars was created to allow viewers to gain a better understanding of the relative sizes of the two planets.\" src=\"/system/news_items/list_view_images/8388_20030728_marsClose02_320.jpg\"/></div><div class=\"bottom_gradient\"><div><h3>What Two Planetary Siblings Can Teach Us About Life</h3></div></div></a><div class=\"list_text\"><div class=\"list_date\">November 20, 2018</div><div class=\"content_title\"><a href=\"/news/8388/what-two-planetary-siblings-can-teach-us-about-life/\" target=\"_self\">What Two Planetary Siblings Can Teach Us About Life</a></div><div class=\"article_teaser_body\">In studying Mars, NASA's InSight will reveal what makes one planet more or less suitable for life than another.</div></div></div></li><li class=\"slide\"><div class=\"image_and_description_container\"><a href=\"/news/8387/nasa-announces-landing-site-for-mars-2020-rover/\" target=\"_self\"><div class=\"rollover_description\"><div class=\"rollover_description_inner\">After a five-year search, NASA has chosen Jezero Crater as the landing site for its upcoming Mars 2020 rover mission.</div><div class=\"overlay_arrow\"><img alt=\"More\" src=\"/assets/overlay-arrow.png\"/></div></div><div class=\"list_image\"><img alt=\"On ancient Mars, water carved channels and transported sediments to form fans and deltas within lake basins. \" src=\"/system/news_items/list_view_images/8387_JezeroCrater-320x240.jpg\"/></div><div class=\"bottom_gradient\"><div><h3>NASA Announces Landing Site for Mars 2020 Rover</h3></div></div></a><div class=\"list_text\"><div class=\"list_date\">November 19, 2018</div><div class=\"content_title\"><a href=\"/news/8387/nasa-announces-landing-site-for-mars-2020-rover/\" target=\"_self\">NASA Announces Landing Site for Mars 2020 Rover</a></div><div class=\"article_teaser_body\">After a five-year search, NASA has chosen Jezero Crater as the landing site for its upcoming Mars 2020 rover mission.</div></div></div></li><li class=\"slide\"><div class=\"image_and_description_container\"><a href=\"/news/8386/nasa-to-host-media-call-on-next-mars-landing-site/\" target=\"_self\"><div class=\"rollover_description\"><div class=\"rollover_description_inner\">NASA will host a media teleconference at 9 a.m. PST (noon EST) Monday, Nov. 19, to provide details about the Mars 2020 rover’s landing site on the Red Planet.</div><div class=\"overlay_arrow\"><img alt=\"More\" src=\"/assets/overlay-arrow.png\"/></div></div><div class=\"list_image\"><img alt=\"This view of Mars was assembled from MOC daily global images obtained on May 12, 2003. \" src=\"/system/news_items/list_view_images/8386_PIA04591-320x240.jpg\"/></div><div class=\"bottom_gradient\"><div><h3>NASA to Host Media Call on Next Mars Landing Site</h3></div></div></a><div class=\"list_text\"><div class=\"list_date\">November 16, 2018</div><div class=\"content_title\"><a href=\"/news/8386/nasa-to-host-media-call-on-next-mars-landing-site/\" target=\"_self\">NASA to Host Media Call on Next Mars Landing Site</a></div><div class=\"article_teaser_body\">NASA will host a media teleconference at 9 a.m. PST (noon EST) Monday, Nov. 19, to provide details about the Mars 2020 rover’s landing site on the Red Planet.</div></div></div></li><li class=\"slide\"><div class=\"image_and_description_container\"><a href=\"/news/8385/how-nasa-will-know-when-insight-touches-down/\" target=\"_self\"><div class=\"rollover_description\"><div class=\"rollover_description_inner\">On Nov. 26, engineers will look for a combination of signals to determine whether the next spacecraft to Mars lands safely.</div><div class=\"overlay_arrow\"><img alt=\"More\" src=\"/assets/overlay-arrow.png\"/></div></div><div class=\"list_image\"><img alt=\"This animation depicts the MarCO CubeSats relaying data from NASA's InSight lander as it enters the Martian atmosphere.\" src=\"/system/news_items/list_view_images/8385_PIA22738-th.jpg\"/></div><div class=\"bottom_gradient\"><div><h3>How NASA Will Know When InSight Touches Down</h3></div></div></a><div class=\"list_text\"><div class=\"list_date\">November 16, 2018</div><div class=\"content_title\"><a href=\"/news/8385/how-nasa-will-know-when-insight-touches-down/\" target=\"_self\">How NASA Will Know When InSight Touches Down</a></div><div class=\"article_teaser_body\">On Nov. 26, engineers will look for a combination of signals to determine whether the next spacecraft to Mars lands safely.</div></div></div></li><li class=\"slide\"><div class=\"image_and_description_container\"><a href=\"/news/8384/nasa-brings-mars-landing-to-viewers-everywhere/\" target=\"_self\"><div class=\"rollover_description\"><div class=\"rollover_description_inner\">NASA's InSight lander is scheduled to touch down on the Red Planet at approximately noon PST  on Nov. 26, with a new suite of instruments to probe below the Martian surface.</div><div class=\"overlay_arrow\"><img alt=\"More\" src=\"/assets/overlay-arrow.png\"/></div></div><div class=\"list_image\"><img alt=\"This illustration shows a simulated view of NASA's InSight lander firing retrorockets to slow down as it descends toward the surface of Mars.\" src=\"/system/news_items/list_view_images/8384_PIA22810_320.jpg\"/></div><div class=\"bottom_gradient\"><div><h3>NASA Brings Mars Landing to Viewers Everywhere</h3></div></div></a><div class=\"list_text\"><div class=\"list_date\">November 13, 2018</div><div class=\"content_title\"><a href=\"/news/8384/nasa-brings-mars-landing-to-viewers-everywhere/\" target=\"_self\">NASA Brings Mars Landing to Viewers Everywhere</a></div><div class=\"article_teaser_body\">NASA's InSight lander is scheduled to touch down on the Red Planet at approximately noon PST  on Nov. 26, with a new suite of instruments to probe below the Martian surface.</div></div></div></li><li class=\"slide\"><div class=\"image_and_description_container\"><a href=\"/news/8371/curiosity-on-the-move-again/\" target=\"_self\"><div class=\"rollover_description\"><div class=\"rollover_description_inner\">NASA's Mars Curiosity rover drove about 197 feet over the weekend to a site called Lake Orcadie, pushing its total odometry to over 12 miles.</div><div class=\"overlay_arrow\"><img alt=\"More\" src=\"/assets/overlay-arrow.png\"/></div></div><div class=\"list_image\"><img alt=\"A self-portrait of NASA's Curiosity rover taken on Sol 2082 (June 15, 2018). A Martian dust storm has reduced sunlight and visibility at the rover's location in Gale Crater.\" src=\"/system/news_items/list_view_images/8371_PIA22486_320x240.jpg\"/></div><div class=\"bottom_gradient\"><div><h3>Curiosity on the Move Again</h3></div></div></a><div class=\"list_text\"><div class=\"list_date\">November  6, 2018</div><div class=\"content_title\"><a href=\"/news/8371/curiosity-on-the-move-again/\" target=\"_self\">Curiosity on the Move Again</a></div><div class=\"article_teaser_body\">NASA's Mars Curiosity rover drove about 197 feet over the weekend to a site called Lake Orcadie, pushing its total odometry to over 12 miles.</div></div></div></li><li class=\"slide\"><div class=\"image_and_description_container\"><a href=\"/news/8383/the-mars-insight-landing-site-is-just-plain-perfect/\" target=\"_self\"><div class=\"rollover_description\"><div class=\"rollover_description_inner\">If the InSight landing zone were ice cream, it would be vanilla.</div><div class=\"overlay_arrow\"><img alt=\"More\" src=\"/assets/overlay-arrow.png\"/></div></div><div class=\"list_image\"><img alt=\"This artist’s concept depicts the smooth, flat ground that dominates InSight's landing ellipse in the Elysium Planitia region of Mars. \" src=\"/system/news_items/list_view_images/8383_PIA22743-320x240.jpg\"/></div><div class=\"bottom_gradient\"><div><h3>The Mars InSight Landing Site Is Just Plain Perfect</h3></div></div></a><div class=\"list_text\"><div class=\"list_date\">November  5, 2018</div><div class=\"content_title\"><a href=\"/news/8383/the-mars-insight-landing-site-is-just-plain-perfect/\" target=\"_self\">The Mars InSight Landing Site Is Just Plain Perfect</a></div><div class=\"article_teaser_body\">If the InSight landing zone were ice cream, it would be vanilla.</div></div></div></li><li class=\"slide\"><div class=\"image_and_description_container\"><a href=\"/news/8382/five-things-to-know-about-insights-mars-landing/\" target=\"_self\"><div class=\"rollover_description\"><div class=\"rollover_description_inner\">NASA engineers will be holding their breath when their spacecraft heads into Mars' atmosphere on Nov. 26.</div><div class=\"overlay_arrow\"><img alt=\"More\" src=\"/assets/overlay-arrow.png\"/></div></div><div class=\"list_image\"><img alt=\"This is an illustration showing a simulated view of NASA's InSight lander about to land on the surface of Mars. This view shows the underside of the spacecraft\" src=\"/system/news_items/list_view_images/8382_22097_PIA22812-320x240.jpg\"/></div><div class=\"bottom_gradient\"><div><h3>Five Things to Know About InSight's Mars Landing</h3></div></div></a><div class=\"list_text\"><div class=\"list_date\">October 31, 2018</div><div class=\"content_title\"><a href=\"/news/8382/five-things-to-know-about-insights-mars-landing/\" target=\"_self\">Five Things to Know About InSight's Mars Landing</a></div><div class=\"article_teaser_body\">NASA engineers will be holding their breath when their spacecraft heads into Mars' atmosphere on Nov. 26.</div></div></div></li><li class=\"slide\"><div class=\"image_and_description_container\"><a href=\"/news/8381/nasa-launches-a-new-podcast-to-mars/\" target=\"_self\"><div class=\"rollover_description\"><div class=\"rollover_description_inner\">NASA's new eight-episode series 'On a Mission' follows the InSight spacecraft on its journey to Mars and details the extraordinary challenges of landing on the Red Planet.</div><div class=\"overlay_arrow\"><img alt=\"More\" src=\"/assets/overlay-arrow.png\"/></div></div><div class=\"list_image\"><img alt='A new NASA podcast \"On a Mission\"' src=\"/system/news_items/list_view_images/8381_On_A_Mission_Podcast_Logo-320x240.jpg\"/></div><div class=\"bottom_gradient\"><div><h3>NASA Launches a New Podcast to Mars</h3></div></div></a><div class=\"list_text\"><div class=\"list_date\">October 29, 2018</div><div class=\"content_title\"><a href=\"/news/8381/nasa-launches-a-new-podcast-to-mars/\" target=\"_self\">NASA Launches a New Podcast to Mars</a></div><div class=\"article_teaser_body\">NASA's new eight-episode series 'On a Mission' follows the InSight spacecraft on its journey to Mars and details the extraordinary challenges of landing on the Red Planet.</div></div></div></li><li class=\"slide\"><div class=\"image_and_description_container\"><a href=\"/news/8364/update-on-opportunity-rover-recovery-efforts/\" target=\"_self\"><div class=\"rollover_description\"><div class=\"rollover_description_inner\">After a review of the progress of the listening campaign, NASA will continue its current strategy for attempting to make contact with the Opportunity rover for the foreseeable future.</div><div class=\"overlay_arrow\"><img alt=\"More\" src=\"/assets/overlay-arrow.png\"/></div></div><div class=\"list_image\"><img alt=\"This June 2017 view from the Pancam on NASA's Opportunity Mars rover shows the area just above &quot;Perseverance Valley&quot; on a large crater's rim. A broad notch in the crest of the rim, at right, might have been a spillway for a fluid that carved the valley, out of sight on the other side of the rim.\" src=\"/system/news_items/list_view_images/8364_PIA21723-16bth.jpg\"/></div><div class=\"bottom_gradient\"><div><h3>Update on Opportunity Rover Recovery Efforts</h3></div></div></a><div class=\"list_text\"><div class=\"list_date\">October 29, 2018</div><div class=\"content_title\"><a href=\"/news/8364/update-on-opportunity-rover-recovery-efforts/\" target=\"_self\">Update on Opportunity Rover Recovery Efforts</a></div><div class=\"article_teaser_body\">After a review of the progress of the listening campaign, NASA will continue its current strategy for attempting to make contact with the Opportunity rover for the foreseeable future.</div></div></div></li><li class=\"slide\"><div class=\"image_and_description_container\"><a href=\"/news/8380/third-aspire-test-confirms-mars-2020-parachute-a-go/\" target=\"_self\"><div class=\"rollover_description\"><div class=\"rollover_description_inner\">The supersonic parachute that will handle the heaviest payload yet to the Red Planet – Mars 2020 rover – passes its final sounding rocket test with flying colors.</div><div class=\"overlay_arrow\"><img alt=\"More\" src=\"/assets/overlay-arrow.png\"/></div></div><div class=\"list_image\"><img alt=\"\" src=\"/system/news_items/list_view_images/8380_parachute-16-th.jpg\"/></div><div class=\"bottom_gradient\"><div><h3>Third ASPIRE Test Confirms Mars 2020 Parachute a Go</h3></div></div></a><div class=\"list_text\"><div class=\"list_date\">October 26, 2018</div><div class=\"content_title\"><a href=\"/news/8380/third-aspire-test-confirms-mars-2020-parachute-a-go/\" target=\"_self\">Third ASPIRE Test Confirms Mars 2020 Parachute a Go</a></div><div class=\"article_teaser_body\">The supersonic parachute that will handle the heaviest payload yet to the Red Planet – Mars 2020 rover – passes its final sounding rocket test with flying colors.</div></div></div></li><li class=\"slide\"><div class=\"image_and_description_container\"><a href=\"/news/8379/nasa-to-host-briefing-on-november-mars-insight-landing/\" target=\"_self\"><div class=\"rollover_description\"><div class=\"rollover_description_inner\">A briefing on NASA's upcoming InSight Mars landing will air on Wed. Oct. 31 at 1:30 p.m. EDT (10:30 a.m. PDT) on NASA TV, the agency's website and NASA InSight Facebook Page.</div><div class=\"overlay_arrow\"><img alt=\"More\" src=\"/assets/overlay-arrow.png\"/></div></div><div class=\"list_image\"><img alt=\"An artist illustration of the InSight lander on Mars.\" src=\"/system/news_items/list_view_images/8379_insight-impression-320x240.jpg\"/></div><div class=\"bottom_gradient\"><div><h3>NASA to Host Briefing on November Mars InSight Landing</h3></div></div></a><div class=\"list_text\"><div class=\"list_date\">October 25, 2018</div><div class=\"content_title\"><a href=\"/news/8379/nasa-to-host-briefing-on-november-mars-insight-landing/\" target=\"_self\">NASA to Host Briefing on November Mars InSight Landing</a></div><div class=\"article_teaser_body\">A briefing on NASA's upcoming InSight Mars landing will air on Wed. Oct. 31 at 1:30 p.m. EDT (10:30 a.m. PDT) on NASA TV, the agency's website and NASA InSight Facebook Page.</div></div></div></li><li class=\"slide\"><div class=\"image_and_description_container\"><a href=\"/news/8378/nasas-insight-will-study-mars-while-standing-still/\" target=\"_self\"><div class=\"rollover_description\"><div class=\"rollover_description_inner\">The lander's unique science can teach us how planets are born.</div><div class=\"overlay_arrow\"><img alt=\"More\" src=\"/assets/overlay-arrow.png\"/></div></div><div class=\"list_image\"><img alt=\"This artist's concept depicts NASA's InSight lander after it has deployed its instruments on the Martian surface.\" src=\"/system/news_items/list_view_images/8378_PIA22743-320x240.jpg\"/></div><div class=\"bottom_gradient\"><div><h3>NASA's InSight Will Study Mars While Standing Still</h3></div></div></a><div class=\"list_text\"><div class=\"list_date\">October 24, 2018</div><div class=\"content_title\"><a href=\"/news/8378/nasas-insight-will-study-mars-while-standing-still/\" target=\"_self\">NASA's InSight Will Study Mars While Standing Still</a></div><div class=\"article_teaser_body\">The lander's unique science can teach us how planets are born.</div></div></div></li></ul><footer class=\"list_footer more_button\"><div class=\"loading\"></div><a class=\"button\" href=\"#\" type=\"button\">More</a></footer></div></section></div>\n",
       " </article>\n",
       " </div>\n",
       " </div>\n",
       " <section class=\"module suggested_features\">\n",
       " <div class=\"grid_layout\">\n",
       " <header>\n",
       " <h2 class=\"module_title\">You Might Also Like</h2>\n",
       " </header>\n",
       " <section>\n",
       " <script>\n",
       "   $(document).ready(function(){\n",
       "     $(\".features\").slick({\n",
       "       dots: false,\n",
       "       infinite: true,\n",
       "       speed: 300,\n",
       "       slide: '.features .slide',\n",
       "       slidesToShow: 3,\n",
       "       slidesToScroll: 3,\n",
       "       lazyLoad: 'ondemand',\n",
       "       centerMode: false,\n",
       "       arrows: true,\n",
       "       appendArrows: '.features .slick-nav',\n",
       "       appendDots: \".features .slick-nav\",\n",
       "       responsive: [{\"breakpoint\":953,\"settings\":{\"slidesToShow\":2,\"slidesToScroll\":2,\"centerMode\":false}},{\"breakpoint\":480,\"settings\":{\"slidesToShow\":1,\"slidesToScroll\":1,\"centerMode\":true,\"arrows\":false,\"centerPadding\":\"25px\"}}]\n",
       "     });\n",
       "   });\n",
       " </script>\n",
       " <div class=\"features slick-initialized slick-slider\">\n",
       " <div class=\"slick-list draggable\" tabindex=\"0\"><div class=\"slick-track\" style=\"opacity: 1; width: 3576px; transform: translate3d(-894px, 0px, 0px);\"><div class=\"slide slick-slide slick-cloned\" index=\"-3\" style=\"width: 280px;\">\n",
       " <div class=\"image_and_description_container\">\n",
       " <a href=\"/news/8348/opportunity-hunkers-down-during-dust-storm/\">\n",
       " <div class=\"rollover_description\">\n",
       " <div class=\"rollover_description_inner\">\n",
       " It's the beginning of the end for the planet-encircling dust storm on Mars. But it could still be weeks, or even months, before skies are clear enough for NASA's Opportunity rover to recharge its batteries and phone home. \n",
       " </div>\n",
       " <div class=\"overlay_arrow\">\n",
       " <img alt=\"More\" src=\"/assets/overlay-arrow.png\"/>\n",
       " </div>\n",
       " </div>\n",
       " <img alt=\"Opportunity Hunkers Down During Dust Storm\" class=\"img-lazy\" data-lazy=\"/system/news_items/list_view_images/8348_PIA22521-320.jpg\" src=\"/assets/loading_320x240.png\"/>\n",
       " </a>\n",
       " </div>\n",
       " <div class=\"content_title\">\n",
       " <a href=\"/news/8348/opportunity-hunkers-down-during-dust-storm/\">\n",
       " Opportunity Hunkers Down During Dust Storm\n",
       " </a>\n",
       " </div>\n",
       " </div><div class=\"slide slick-slide slick-cloned\" index=\"-2\" style=\"width: 280px;\">\n",
       " <div class=\"image_and_description_container\">\n",
       " <a href=\"/news/8347/nasa-finds-ancient-organic-material-mysterious-methane-on-mars/\">\n",
       " <div class=\"rollover_description\">\n",
       " <div class=\"rollover_description_inner\">\n",
       " NASA’s Curiosity rover has found evidence on Mars with implications for NASA’s search for life.\n",
       " </div>\n",
       " <div class=\"overlay_arrow\">\n",
       " <img alt=\"More\" src=\"/assets/overlay-arrow.png\"/>\n",
       " </div>\n",
       " </div>\n",
       " <img alt=\"NASA Finds Ancient Organic Material, Mysterious Methane on Mars\" class=\"img-lazy\" data-lazy=\"/system/news_items/list_view_images/8347_curiosity_methane-320.jpg\" src=\"/assets/loading_320x240.png\"/>\n",
       " </a>\n",
       " </div>\n",
       " <div class=\"content_title\">\n",
       " <a href=\"/news/8347/nasa-finds-ancient-organic-material-mysterious-methane-on-mars/\">\n",
       " NASA Finds Ancient Organic Material, Mysterious Methane on Mars\n",
       " </a>\n",
       " </div>\n",
       " </div><div class=\"slide slick-slide slick-cloned\" index=\"-1\" style=\"width: 280px;\">\n",
       " <div class=\"image_and_description_container\">\n",
       " <a href=\"/news/8326/nasa-invests-in-visionary-technology/\">\n",
       " <div class=\"rollover_description\">\n",
       " <div class=\"rollover_description_inner\">\n",
       " NASA is investing in technology concepts, including several from JPL, that may one day be used for future space exploration missions.\n",
       " </div>\n",
       " <div class=\"overlay_arrow\">\n",
       " <img alt=\"More\" src=\"/assets/overlay-arrow.png\"/>\n",
       " </div>\n",
       " </div>\n",
       " <img alt=\"NASA Invests in Visionary Technology \" class=\"img-lazy\" data-lazy=\"/system/news_items/list_view_images/8326_niac320.jpg\" src=\"/assets/loading_320x240.png\"/>\n",
       " </a>\n",
       " </div>\n",
       " <div class=\"content_title\">\n",
       " <a href=\"/news/8326/nasa-invests-in-visionary-technology/\">\n",
       " NASA Invests in Visionary Technology \n",
       " </a>\n",
       " </div>\n",
       " </div><div class=\"slide slick-slide slick-active\" index=\"0\" style=\"width: 280px;\">\n",
       " <div class=\"image_and_description_container\">\n",
       " <a href=\"/news/8413/nasas-opportunity-rover-mission-on-mars-comes-to-end/\">\n",
       " <div class=\"rollover_description\">\n",
       " <div class=\"rollover_description_inner\">\n",
       " NASA's Opportunity Mars rover mission is complete after 15 years on Mars. Opportunity's record-breaking exploration laid the groundwork for future missions to the Red Planet.\n",
       " </div>\n",
       " <div class=\"overlay_arrow\">\n",
       " <img alt=\"More\" src=\"/assets/overlay-arrow.png\"/>\n",
       " </div>\n",
       " </div>\n",
       " <img alt=\"NASA's Opportunity Rover Mission on Mars Comes to End\" class=\"img-lazy\" src=\"/system/news_items/list_view_images/8413_PIA06739-320x240.jpg?1550894125832\" style=\"opacity: 1;\"/>\n",
       " </a>\n",
       " </div>\n",
       " <div class=\"content_title\">\n",
       " <a href=\"/news/8413/nasas-opportunity-rover-mission-on-mars-comes-to-end/\">\n",
       " NASA's Opportunity Rover Mission on Mars Comes to End\n",
       " </a>\n",
       " </div>\n",
       " </div><div class=\"slide slick-slide slick-active\" index=\"1\" style=\"width: 280px;\">\n",
       " <div class=\"image_and_description_container\">\n",
       " <a href=\"/news/8402/nasas-insight-places-first-instrument-on-mars/\">\n",
       " <div class=\"rollover_description\">\n",
       " <div class=\"rollover_description_inner\">\n",
       " In deploying its first instrument onto the surface of Mars, the lander completes a major mission milestone.\n",
       " </div>\n",
       " <div class=\"overlay_arrow\">\n",
       " <img alt=\"More\" src=\"/assets/overlay-arrow.png\"/>\n",
       " </div>\n",
       " </div>\n",
       " <img alt=\"NASA's InSight Places First Instrument on Mars\" class=\"img-lazy\" src=\"/system/news_items/list_view_images/8402_PIA22977_SEIS_deploy_IDC_calibrated-th.gif?1550894125832\" style=\"opacity: 1;\"/>\n",
       " </a>\n",
       " </div>\n",
       " <div class=\"content_title\">\n",
       " <a href=\"/news/8402/nasas-insight-places-first-instrument-on-mars/\">\n",
       " NASA's InSight Places First Instrument on Mars\n",
       " </a>\n",
       " </div>\n",
       " </div><div class=\"slide slick-slide slick-active\" index=\"2\" style=\"width: 280px;\">\n",
       " <div class=\"image_and_description_container\">\n",
       " <a href=\"/news/8387/nasa-announces-landing-site-for-mars-2020-rover/\">\n",
       " <div class=\"rollover_description\">\n",
       " <div class=\"rollover_description_inner\">\n",
       " After a five-year search, NASA has chosen Jezero Crater as the landing site for its upcoming Mars 2020 rover mission.\n",
       " </div>\n",
       " <div class=\"overlay_arrow\">\n",
       " <img alt=\"More\" src=\"/assets/overlay-arrow.png\"/>\n",
       " </div>\n",
       " </div>\n",
       " <img alt=\"NASA Announces Landing Site for Mars 2020 Rover\" class=\"img-lazy\" src=\"/system/news_items/list_view_images/8387_JezeroCrater-320x240.jpg?1550894125832\" style=\"opacity: 1;\"/>\n",
       " </a>\n",
       " </div>\n",
       " <div class=\"content_title\">\n",
       " <a href=\"/news/8387/nasa-announces-landing-site-for-mars-2020-rover/\">\n",
       " NASA Announces Landing Site for Mars 2020 Rover\n",
       " </a>\n",
       " </div>\n",
       " </div><div class=\"slide slick-slide\" index=\"3\" style=\"width: 280px;\">\n",
       " <div class=\"image_and_description_container\">\n",
       " <a href=\"/news/8348/opportunity-hunkers-down-during-dust-storm/\">\n",
       " <div class=\"rollover_description\">\n",
       " <div class=\"rollover_description_inner\">\n",
       " It's the beginning of the end for the planet-encircling dust storm on Mars. But it could still be weeks, or even months, before skies are clear enough for NASA's Opportunity rover to recharge its batteries and phone home. \n",
       " </div>\n",
       " <div class=\"overlay_arrow\">\n",
       " <img alt=\"More\" src=\"/assets/overlay-arrow.png\"/>\n",
       " </div>\n",
       " </div>\n",
       " <img alt=\"Opportunity Hunkers Down During Dust Storm\" class=\"img-lazy\" data-lazy=\"/system/news_items/list_view_images/8348_PIA22521-320.jpg\" src=\"/assets/loading_320x240.png\"/>\n",
       " </a>\n",
       " </div>\n",
       " <div class=\"content_title\">\n",
       " <a href=\"/news/8348/opportunity-hunkers-down-during-dust-storm/\">\n",
       " Opportunity Hunkers Down During Dust Storm\n",
       " </a>\n",
       " </div>\n",
       " </div><div class=\"slide slick-slide\" index=\"4\" style=\"width: 280px;\">\n",
       " <div class=\"image_and_description_container\">\n",
       " <a href=\"/news/8347/nasa-finds-ancient-organic-material-mysterious-methane-on-mars/\">\n",
       " <div class=\"rollover_description\">\n",
       " <div class=\"rollover_description_inner\">\n",
       " NASA’s Curiosity rover has found evidence on Mars with implications for NASA’s search for life.\n",
       " </div>\n",
       " <div class=\"overlay_arrow\">\n",
       " <img alt=\"More\" src=\"/assets/overlay-arrow.png\"/>\n",
       " </div>\n",
       " </div>\n",
       " <img alt=\"NASA Finds Ancient Organic Material, Mysterious Methane on Mars\" class=\"img-lazy\" data-lazy=\"/system/news_items/list_view_images/8347_curiosity_methane-320.jpg\" src=\"/assets/loading_320x240.png\"/>\n",
       " </a>\n",
       " </div>\n",
       " <div class=\"content_title\">\n",
       " <a href=\"/news/8347/nasa-finds-ancient-organic-material-mysterious-methane-on-mars/\">\n",
       " NASA Finds Ancient Organic Material, Mysterious Methane on Mars\n",
       " </a>\n",
       " </div>\n",
       " </div><div class=\"slide slick-slide\" index=\"5\" style=\"width: 280px;\">\n",
       " <div class=\"image_and_description_container\">\n",
       " <a href=\"/news/8326/nasa-invests-in-visionary-technology/\">\n",
       " <div class=\"rollover_description\">\n",
       " <div class=\"rollover_description_inner\">\n",
       " NASA is investing in technology concepts, including several from JPL, that may one day be used for future space exploration missions.\n",
       " </div>\n",
       " <div class=\"overlay_arrow\">\n",
       " <img alt=\"More\" src=\"/assets/overlay-arrow.png\"/>\n",
       " </div>\n",
       " </div>\n",
       " <img alt=\"NASA Invests in Visionary Technology \" class=\"img-lazy\" data-lazy=\"/system/news_items/list_view_images/8326_niac320.jpg\" src=\"/assets/loading_320x240.png\"/>\n",
       " </a>\n",
       " </div>\n",
       " <div class=\"content_title\">\n",
       " <a href=\"/news/8326/nasa-invests-in-visionary-technology/\">\n",
       " NASA Invests in Visionary Technology \n",
       " </a>\n",
       " </div>\n",
       " </div><div class=\"slide slick-slide slick-cloned\" index=\"6\" style=\"width: 280px;\">\n",
       " <div class=\"image_and_description_container\">\n",
       " <a href=\"/news/8413/nasas-opportunity-rover-mission-on-mars-comes-to-end/\">\n",
       " <div class=\"rollover_description\">\n",
       " <div class=\"rollover_description_inner\">\n",
       " NASA's Opportunity Mars rover mission is complete after 15 years on Mars. Opportunity's record-breaking exploration laid the groundwork for future missions to the Red Planet.\n",
       " </div>\n",
       " <div class=\"overlay_arrow\">\n",
       " <img alt=\"More\" src=\"/assets/overlay-arrow.png\"/>\n",
       " </div>\n",
       " </div>\n",
       " <img alt=\"NASA's Opportunity Rover Mission on Mars Comes to End\" class=\"img-lazy\" src=\"/system/news_items/list_view_images/8413_PIA06739-320x240.jpg?1550894125832\" style=\"opacity: 1;\"/>\n",
       " </a>\n",
       " </div>\n",
       " <div class=\"content_title\">\n",
       " <a href=\"/news/8413/nasas-opportunity-rover-mission-on-mars-comes-to-end/\">\n",
       " NASA's Opportunity Rover Mission on Mars Comes to End\n",
       " </a>\n",
       " </div>\n",
       " </div><div class=\"slide slick-slide slick-cloned\" index=\"7\" style=\"width: 280px;\">\n",
       " <div class=\"image_and_description_container\">\n",
       " <a href=\"/news/8402/nasas-insight-places-first-instrument-on-mars/\">\n",
       " <div class=\"rollover_description\">\n",
       " <div class=\"rollover_description_inner\">\n",
       " In deploying its first instrument onto the surface of Mars, the lander completes a major mission milestone.\n",
       " </div>\n",
       " <div class=\"overlay_arrow\">\n",
       " <img alt=\"More\" src=\"/assets/overlay-arrow.png\"/>\n",
       " </div>\n",
       " </div>\n",
       " <img alt=\"NASA's InSight Places First Instrument on Mars\" class=\"img-lazy\" src=\"/system/news_items/list_view_images/8402_PIA22977_SEIS_deploy_IDC_calibrated-th.gif?1550894125833\" style=\"opacity: 1;\"/>\n",
       " </a>\n",
       " </div>\n",
       " <div class=\"content_title\">\n",
       " <a href=\"/news/8402/nasas-insight-places-first-instrument-on-mars/\">\n",
       " NASA's InSight Places First Instrument on Mars\n",
       " </a>\n",
       " </div>\n",
       " </div><div class=\"slide slick-slide slick-cloned\" index=\"8\" style=\"width: 280px;\">\n",
       " <div class=\"image_and_description_container\">\n",
       " <a href=\"/news/8387/nasa-announces-landing-site-for-mars-2020-rover/\">\n",
       " <div class=\"rollover_description\">\n",
       " <div class=\"rollover_description_inner\">\n",
       " After a five-year search, NASA has chosen Jezero Crater as the landing site for its upcoming Mars 2020 rover mission.\n",
       " </div>\n",
       " <div class=\"overlay_arrow\">\n",
       " <img alt=\"More\" src=\"/assets/overlay-arrow.png\"/>\n",
       " </div>\n",
       " </div>\n",
       " <img alt=\"NASA Announces Landing Site for Mars 2020 Rover\" class=\"img-lazy\" src=\"/system/news_items/list_view_images/8387_JezeroCrater-320x240.jpg?1550894125833\" style=\"opacity: 1;\"/>\n",
       " </a>\n",
       " </div>\n",
       " <div class=\"content_title\">\n",
       " <a href=\"/news/8387/nasa-announces-landing-site-for-mars-2020-rover/\">\n",
       " NASA Announces Landing Site for Mars 2020 Rover\n",
       " </a>\n",
       " </div>\n",
       " </div></div></div>\n",
       " <div class=\"grid_layout\">\n",
       " <div class=\"slick-nav_container\">\n",
       " <div class=\"slick-nav\"><button class=\"slick-prev\" data-role=\"none\" style=\"display: block;\" type=\"button\">Previous</button><button class=\"slick-next\" data-role=\"none\" style=\"display: block;\" type=\"button\">Next</button></div>\n",
       " </div>\n",
       " </div>\n",
       " </div>\n",
       " </section>\n",
       " </div>\n",
       " </section>\n",
       " </div>]"
      ]
     },
     "execution_count": 5,
     "metadata": {},
     "output_type": "execute_result"
    }
   ],
   "source": [
    "newshtml = browser.html\n",
    "soup = bs(newshtml, 'html.parser')\n",
    "page = soup.find_all(\"div\", {\"id\": \"page\"})\n",
    "page"
   ]
  },
  {
   "cell_type": "code",
   "execution_count": 6,
   "metadata": {},
   "outputs": [
    {
     "data": {
      "text/plain": [
       "'After a Reset, Curiosity Is Operating Normally'"
      ]
     },
     "execution_count": 6,
     "metadata": {},
     "output_type": "execute_result"
    }
   ],
   "source": [
    "#test = soup.find_all(\"h3\")\n",
    "#for each in test:\n",
    "#    print(each)\n",
    "\n",
    "#above works because find will only find the first one, which is the most recent -- same for the body, below\n",
    "news_title = soup.find(\"h3\").text\n",
    "news_title"
   ]
  },
  {
   "cell_type": "code",
   "execution_count": 9,
   "metadata": {},
   "outputs": [
    {
     "data": {
      "text/plain": [
       "\"NASA's Mars rover Curiosity is in good health but takes a short break while engineers diagnose why it reset its computer. \""
      ]
     },
     "execution_count": 9,
     "metadata": {},
     "output_type": "execute_result"
    }
   ],
   "source": [
    "news_p = soup.find(\"div\",class_=\"rollover_description_inner\").text\n",
    "news_p"
   ]
  },
  {
   "cell_type": "code",
   "execution_count": 33,
   "metadata": {},
   "outputs": [],
   "source": [
    "#JPL Mars Space Images - Featured Image\n",
    "\n",
    "url = \"https://www.jpl.nasa.gov/spaceimages/?search=&category=Mars\"\n",
    "browser.visit(url)"
   ]
  },
  {
   "cell_type": "code",
   "execution_count": 34,
   "metadata": {},
   "outputs": [],
   "source": [
    "jplhtml = browser.html\n",
    "soup = bs(jplhtml, 'html.parser')"
   ]
  },
  {
   "cell_type": "code",
   "execution_count": 35,
   "metadata": {},
   "outputs": [],
   "source": [
    "#carouselPic = soup.find('article',class_='carousel_item')\n",
    "#image url is inside an article tag in the 'style' parameter, which is why\n",
    "#we're accessing it below like so\n",
    "imageExt = soup.article['style'][23:-3]\n",
    "featured_image_url = 'https://www.jpl.nasa.gov' + imageExt\n",
    "featured_image_url"
   ]
  },
  {
   "cell_type": "code",
   "execution_count": 36,
   "metadata": {},
   "outputs": [],
   "source": [
    "#Mars Weather\n",
    "url = \"https://twitter.com/marswxreport?lang=en\"\n",
    "browser.visit(url)"
   ]
  },
  {
   "cell_type": "code",
   "execution_count": 37,
   "metadata": {},
   "outputs": [],
   "source": [
    "twitterhtml = browser.html\n",
    "soup = bs(twitterhtml, 'html.parser')"
   ]
  },
  {
   "cell_type": "code",
   "execution_count": 38,
   "metadata": {},
   "outputs": [],
   "source": [
    "#Find the tweets\n",
    "tweets = soup.find_all(\"p\", class_ = \"TweetTextSize TweetTextSize--normal js-tweet-text tweet-text\")"
   ]
  },
  {
   "cell_type": "code",
   "execution_count": 50,
   "metadata": {},
   "outputs": [
    {
     "name": "stdout",
     "output_type": "stream",
     "text": [
      "sol 84 (2019-02-20) low -95.1ºC (-139.2ºF) high -13.2ºC (8.3ºF)\n"
     ]
    },
    {
     "data": {
      "text/plain": [
       "['sol 84 (2019-02-20) low -95.1ºC (-139.2ºF) high -13.2ºC (8.3ºF)',\n",
       " 'sol 83 (2019-02-19) low -95.0ºC (-139.0ºF) high -11.7ºC (11.0ºF)',\n",
       " 'sol 82 (2019-02-18) low -94.8ºC (-138.6ºF) high -12.3ºC (9.8ºF)',\n",
       " 'sol 81 (2019-02-17), high -17/2F, low -95/-138F, pressure at 7.23hPa, winds from the WNW at 12 mph gusting to 37.8 mph',\n",
       " 'sol 80 (2019-02-16), high -16/3F, low -95/-139F, pressure at 7.23hPa, winds from the WNW at 10.7 mph gusting to 32.3 mph',\n",
       " 'sol 79 (2019-02-15), high -13/8F, low -95/-138F, pressure at 7.21hPa, winds from the WNW at 9.9 mph gusting to 26.2 mph',\n",
       " 'sol 78 (2019-02-14), high -15/4F, low -95/-138F, pressure at 7.22hPa, winds from the WNW at 10.5 mph gusting to 36.4 mph',\n",
       " 'sol 77 (2019-02-13), high -13C/10F, low -94C/-136F, pressure at 7.21 hPa, winds from the WNW at 9 mph gusting to 26.6 mph',\n",
       " 'Sol 2319 (2019-02-13), high -17C/1F, low -72C/-97F, pressure at 8.12 hPa, daylight 06:46-18:52pic.twitter.com/anlHR95BMs',\n",
       " 'Sol 2318 (2019-02-12), high -17C/1F, low -73C/-99F, pressure at 8.11 hPa, daylight 06:46-18:52',\n",
       " 'Sol 2317 (2019-02-11), high -16C/3F, low -73C/-99F, pressure at 8.12 hPa, daylight 06:46-18:52pic.twitter.com/D15lfEs6RN',\n",
       " 'Sol 2316 (2019-02-10), high -14C/6F, low -72C/-97F, pressure at 8.14 hPa, daylight 06:47-18:52',\n",
       " 'Sol 2315 (2019-02-09), high -17C/1F, low -71C/-95F, pressure at 8.13 hPa, daylight 06:47-18:52pic.twitter.com/xnGU2i98WB',\n",
       " 'Sol 2314 (2019-02-08), high -16C/3F, low -71C/-95F, pressure at 8.14 hPa, daylight 06:47-18:53',\n",
       " 'Sol 2313 (2019-02-07), high -14C/6F, low -71C/-95F, pressure at 8.14 hPa, daylight 06:47-18:53',\n",
       " 'Sol 2312 (2019-02-06), high -13C/8F, low -72C/-97F, pressure at 8.13 hPa, daylight 06:47-18:53pic.twitter.com/QpQemcmmJW']"
      ]
     },
     "execution_count": 50,
     "metadata": {},
     "output_type": "execute_result"
    }
   ],
   "source": [
    "#Get the first tweet\n",
    "count = 1\n",
    "recentTweets = []\n",
    "for tweet in tweets:\n",
    "    #make sure it's a weather tweet\n",
    "    if \"pressure at\" in tweet.text or \"winds from the\" in tweet.text:\n",
    "        startIdx = tweet.text.lower().index(\"sol\")\n",
    "        if \"\\n\" in tweet.text:\n",
    "            endIdx = tweet.text.index(\"\\n\")\n",
    "            recentTweets.append(tweet.text[startIdx:endIdx])\n",
    "            if count == 1:\n",
    "                mars_weather = tweet.text[startIdx:endIdx]\n",
    "                count +=1\n",
    "        else:\n",
    "            recentTweets.append(tweet.text[startIdx:])\n",
    "            if count == 1:\n",
    "                mars_weather = tweet.text[startIdx:]\n",
    "                count +=1\n",
    "print(mars_weather)\n",
    "recentTweets"
   ]
  },
  {
   "cell_type": "code",
   "execution_count": 40,
   "metadata": {},
   "outputs": [],
   "source": [
    "#Mars Facts\n",
    "url = \"https://space-facts.com/mars/\"\n",
    "browser.visit(url)"
   ]
  },
  {
   "cell_type": "code",
   "execution_count": 41,
   "metadata": {},
   "outputs": [],
   "source": [
    "factshtml = browser.html\n",
    "soup = bs(factshtml, 'html.parser')"
   ]
  },
  {
   "cell_type": "code",
   "execution_count": 42,
   "metadata": {},
   "outputs": [],
   "source": [
    "table = soup.find_all(\"table\", {'id':'tablepress-mars'})\n",
    "\n",
    "io = \"\"\n",
    "for item in table:\n",
    "    io = io + str(item)\n",
    "    \n",
    "marslist = pd.read_html(io)\n",
    "#choose the dataframe from list of dataframes\n",
    "df = marslist[0]\n",
    "#rename the '0' and '1' columns with meaningful titles\n",
    "df = df.rename(columns = {0:'Description', 1:'Value'}).set_index('Description')\n",
    "\n",
    "#make an html string to represent the dataframe\n",
    "dfhtml = df.to_html()\n",
    "dfhtml"
   ]
  },
  {
   "cell_type": "code",
   "execution_count": 48,
   "metadata": {},
   "outputs": [],
   "source": [
    "#Mars Hemispheres\n",
    "url = \"https://astrogeology.usgs.gov/search/results?q=hemisphere+enhanced&k1=target&v1=Mars\"\n",
    "browser.visit(url)"
   ]
  },
  {
   "cell_type": "code",
   "execution_count": 44,
   "metadata": {},
   "outputs": [],
   "source": [
    "hemhtml = browser.html\n",
    "soup = bs(hemhtml, 'html.parser')"
   ]
  },
  {
   "cell_type": "code",
   "execution_count": 45,
   "metadata": {},
   "outputs": [
    {
     "data": {
      "text/plain": [
       "[]"
      ]
     },
     "execution_count": 45,
     "metadata": {},
     "output_type": "execute_result"
    }
   ],
   "source": [
    "imgUrls = []\n",
    "links = soup.find_all(\"div\", class_=\"item\")\n",
    "for link in links:\n",
    "    imglink = \"https://astrogeology.usgs.gov\" + link.a['href']\n",
    "    imgUrls.append(imglink)\n",
    "imgUrls"
   ]
  },
  {
   "cell_type": "code",
   "execution_count": 46,
   "metadata": {},
   "outputs": [],
   "source": [
    "#visit each of the image links to get the image url and hemisphere name\n",
    "hemisphere_image_urls = []\n",
    "for idx, val in enumerate(imgUrls):\n",
    "    url = val\n",
    "    browser.visit(url)\n",
    "    \n",
    "    imghtml = browser.html\n",
    "    soup = bs(imghtml, 'html.parser')\n",
    "    \n",
    "    imgs = soup.find_all(\"img\", class_ = \"wide-image\")\n",
    "    name = soup.find(\"h2\",class_=\"title\")\n",
    "    \n",
    "    for content in imgs:\n",
    "        img_url = 'https://astrogeology.usgs.gov' + content[\"src\"]\n",
    "    \n",
    "    #append a dictionary to list of dicts for each image\n",
    "    hemisphere_image_urls.append({'title': name.text[:-9], 'img_url' : img_url})\n",
    "    \n",
    "    #print what the contents of the dictionary will look like\n",
    "    print(name.text[:-9])\n",
    "    print(img_url)\n",
    "    print(\"--------------------------------------------------------\")"
   ]
  },
  {
   "cell_type": "code",
   "execution_count": 47,
   "metadata": {},
   "outputs": [
    {
     "data": {
      "text/plain": [
       "{'newsTitle': 'InSight Is the Newest Mars Weather Service',\n",
       " 'newsPara': \"By collecting data around the clock, NASA's lander will provide unique science about the Martian surface.\",\n",
       " 'featuredImg': 'https://www.jpl.nasa.gov/spaceimages/images/wallpaper/PIA19343-1920x1200.jpg',\n",
       " 'marsWeather': 'sol 84 (2019-02-20) low -95.1ºC (-139.2ºF) high -13.2ºC (8.3ºF)',\n",
       " 'marsTable': '<table border=\"1\" class=\"dataframe\">\\n  <thead>\\n    <tr style=\"text-align: right;\">\\n      <th></th>\\n      <th>Value</th>\\n    </tr>\\n    <tr>\\n      <th>Description</th>\\n      <th></th>\\n    </tr>\\n  </thead>\\n  <tbody>\\n    <tr>\\n      <th>Equatorial Diameter:</th>\\n      <td>6,792 km</td>\\n    </tr>\\n    <tr>\\n      <th>Polar Diameter:</th>\\n      <td>6,752 km</td>\\n    </tr>\\n    <tr>\\n      <th>Mass:</th>\\n      <td>6.42 x 10^23 kg (10.7% Earth)</td>\\n    </tr>\\n    <tr>\\n      <th>Moons:</th>\\n      <td>2 (Phobos &amp; Deimos)</td>\\n    </tr>\\n    <tr>\\n      <th>Orbit Distance:</th>\\n      <td>227,943,824 km (1.52 AU)</td>\\n    </tr>\\n    <tr>\\n      <th>Orbit Period:</th>\\n      <td>687 days (1.9 years)</td>\\n    </tr>\\n    <tr>\\n      <th>Surface Temperature:</th>\\n      <td>-153 to 20 °C</td>\\n    </tr>\\n    <tr>\\n      <th>First Record:</th>\\n      <td>2nd millennium BC</td>\\n    </tr>\\n    <tr>\\n      <th>Recorded By:</th>\\n      <td>Egyptian astronomers</td>\\n    </tr>\\n  </tbody>\\n</table>',\n",
       " 'hemispheres': []}"
      ]
     },
     "execution_count": 47,
     "metadata": {},
     "output_type": "execute_result"
    }
   ],
   "source": [
    "ultimate = {\n",
    "    'newsTitle':news_title,\n",
    "    'newsPara':news_p,\n",
    "    'featuredImg':featured_image_url,\n",
    "    'marsWeather':mars_weather,\n",
    "    'marsTable':dfhtml,\n",
    "    'hemispheres':hemisphere_image_urls\n",
    "}\n",
    "ultimate"
   ]
  },
  {
   "cell_type": "code",
   "execution_count": null,
   "metadata": {},
   "outputs": [],
   "source": []
  }
 ],
 "metadata": {
  "kernelspec": {
   "display_name": "Python 3",
   "language": "python",
   "name": "python3"
  },
  "language_info": {
   "codemirror_mode": {
    "name": "ipython",
    "version": 3
   },
   "file_extension": ".py",
   "mimetype": "text/x-python",
   "name": "python",
   "nbconvert_exporter": "python",
   "pygments_lexer": "ipython3",
   "version": "3.7.1"
  }
 },
 "nbformat": 4,
 "nbformat_minor": 2
}
